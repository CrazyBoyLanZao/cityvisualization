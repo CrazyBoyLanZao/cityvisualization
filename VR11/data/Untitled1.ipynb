{
 "cells": [
  {
   "cell_type": "code",
   "execution_count": 22,
   "metadata": {},
   "outputs": [],
   "source": [
    "import pandas as pd\n",
    "import csv"
   ]
  },
  {
   "cell_type": "code",
   "execution_count": 23,
   "metadata": {},
   "outputs": [
    {
     "data": {
      "text/html": [
       "<div>\n",
       "<style scoped>\n",
       "    .dataframe tbody tr th:only-of-type {\n",
       "        vertical-align: middle;\n",
       "    }\n",
       "\n",
       "    .dataframe tbody tr th {\n",
       "        vertical-align: top;\n",
       "    }\n",
       "\n",
       "    .dataframe thead th {\n",
       "        text-align: right;\n",
       "    }\n",
       "</style>\n",
       "<table border=\"1\" class=\"dataframe\">\n",
       "  <thead>\n",
       "    <tr style=\"text-align: right;\">\n",
       "      <th></th>\n",
       "      <th>date</th>\n",
       "      <th>Rain</th>\n",
       "      <th>AQI</th>\n",
       "    </tr>\n",
       "  </thead>\n",
       "  <tbody>\n",
       "    <tr>\n",
       "      <th>0</th>\n",
       "      <td>2019-09-01</td>\n",
       "      <td>19.2</td>\n",
       "      <td>46</td>\n",
       "    </tr>\n",
       "    <tr>\n",
       "      <th>1</th>\n",
       "      <td>2019-09-02</td>\n",
       "      <td>18.1</td>\n",
       "      <td>25</td>\n",
       "    </tr>\n",
       "    <tr>\n",
       "      <th>2</th>\n",
       "      <td>2019-09-03</td>\n",
       "      <td>0.8</td>\n",
       "      <td>28</td>\n",
       "    </tr>\n",
       "    <tr>\n",
       "      <th>3</th>\n",
       "      <td>2019-09-04</td>\n",
       "      <td>0.0</td>\n",
       "      <td>34</td>\n",
       "    </tr>\n",
       "    <tr>\n",
       "      <th>4</th>\n",
       "      <td>2019-09-05</td>\n",
       "      <td>0.0</td>\n",
       "      <td>36</td>\n",
       "    </tr>\n",
       "  </tbody>\n",
       "</table>\n",
       "</div>"
      ],
      "text/plain": [
       "         date  Rain  AQI\n",
       "0  2019-09-01  19.2   46\n",
       "1  2019-09-02  18.1   25\n",
       "2  2019-09-03   0.8   28\n",
       "3  2019-09-04   0.0   34\n",
       "4  2019-09-05   0.0   36"
      ]
     },
     "execution_count": 23,
     "metadata": {},
     "output_type": "execute_result"
    }
   ],
   "source": [
    "data1 = pd.read_csv('南昌0.csv')\n",
    "data2 = pd.read_csv('赣州0.csv')\n",
    "data3 = pd.read_csv('宜春0.csv')\n",
    "data4 = pd.read_csv('吉安0.csv')\n",
    "data5 = pd.read_csv('上饶0.csv')\n",
    "data6 = pd.read_csv('抚州0.csv')\n",
    "data7 = pd.read_csv('九江0.csv')\n",
    "data8 = pd.read_csv('景德镇0.csv')\n",
    "data9 = pd.read_csv('萍乡0.csv')\n",
    "data10 = pd.read_csv('新余0.csv')\n",
    "data11 = pd.read_csv('鹰潭0.csv')\n",
    "data1.head()"
   ]
  },
  {
   "cell_type": "code",
   "execution_count": 24,
   "metadata": {},
   "outputs": [
    {
     "name": "stdout",
     "output_type": "stream",
     "text": [
      "city0:  0.0 ~ 127.5\n",
      "city1:  0.0 ~ 231.1\n",
      "city2:  0.0 ~ 189.2\n",
      "city3:  0.0 ~ 194.6\n",
      "city4:  0.0 ~ 220.9\n",
      "city5:  0.0 ~ 63.3\n",
      "city6:  0.0 ~ 133.1\n",
      "city7:  0.0 ~ 216.3\n",
      "city8:  0.0 ~ 197.8\n",
      "city9:  0.0 ~ 199.3\n",
      "city10:  0.0 ~ 246.4\n"
     ]
    }
   ],
   "source": [
    "print(\"city0: \",data1[\"Rain\"].min(),\"~\",data1[\"Rain\"].max())\n",
    "print(\"city1: \",data2[\"Rain\"].min(),\"~\",data2[\"Rain\"].max())\n",
    "print(\"city2: \",data3[\"Rain\"].min(),\"~\",data3[\"Rain\"].max())\n",
    "print(\"city3: \",data4[\"Rain\"].min(),\"~\",data4[\"Rain\"].max())\n",
    "print(\"city4: \",data5[\"Rain\"].min(),\"~\",data5[\"Rain\"].max())\n",
    "print(\"city5: \",data6[\"Rain\"].min(),\"~\",data6[\"Rain\"].max())\n",
    "print(\"city6: \",data7[\"Rain\"].min(),\"~\",data7[\"Rain\"].max())\n",
    "print(\"city7: \",data8[\"Rain\"].min(),\"~\",data8[\"Rain\"].max())\n",
    "print(\"city8: \",data9[\"Rain\"].min(),\"~\",data9[\"Rain\"].max())\n",
    "print(\"city9: \",data10[\"Rain\"].min(),\"~\",data10[\"Rain\"].max())\n",
    "print(\"city10: \",data11[\"Rain\"].min(),\"~\",data11[\"Rain\"].max())\n",
    "rain1 = list(data1['Rain'])\n",
    "rain2 = list(data2['Rain'])\n",
    "rain3 = list(data3['Rain'])\n",
    "rain4 = list(data4['Rain'])\n",
    "rain5 = list(data5['Rain'])\n",
    "rain6 = list(data6['Rain'])\n",
    "rain7 = list(data7['Rain'])\n",
    "rain8 = list(data8['Rain'])\n",
    "rain9 = list(data9['Rain'])\n",
    "rain10 = list(data10['Rain'])\n",
    "rain11 = list(data11['Rain'])"
   ]
  },
  {
   "cell_type": "code",
   "execution_count": 25,
   "metadata": {},
   "outputs": [],
   "source": [
    "s = ''"
   ]
  },
  {
   "cell_type": "code",
   "execution_count": 26,
   "metadata": {},
   "outputs": [],
   "source": [
    "s += 'var rain = ['"
   ]
  },
  {
   "cell_type": "code",
   "execution_count": 27,
   "metadata": {},
   "outputs": [],
   "source": [
    "s += '['\n",
    "for i in range(len(rain1)):\n",
    "    s += str(rain1[i])\n",
    "    if i != len(rain1) - 1:\n",
    "        s += \",\"\n",
    "s += '],'\n",
    "\n",
    "s += '['\n",
    "for i in range(len(rain1)):\n",
    "    s += str(rain2[i])\n",
    "    if i != len(rain1) - 1:\n",
    "        s += \",\"\n",
    "s += '],'\n",
    "\n",
    "s += '['\n",
    "for i in range(len(rain1)):\n",
    "    s += str(rain3[i])\n",
    "    if i != len(rain1) - 1:\n",
    "        s += \",\"\n",
    "s += '],'\n",
    "\n",
    "s += '['\n",
    "for i in range(len(rain1)):\n",
    "    s += str(rain4[i])\n",
    "    if i != len(rain1) - 1:\n",
    "        s += \",\"\n",
    "s += '],'\n",
    "\n",
    "s += '['\n",
    "for i in range(len(rain1)):\n",
    "    s += str(rain5[i])\n",
    "    if i != len(rain1) - 1:\n",
    "        s += \",\"\n",
    "s += '],'\n",
    "\n",
    "s += '['\n",
    "for i in range(len(rain1)):\n",
    "    s += str(rain6[i])\n",
    "    if i != len(rain1) - 1:\n",
    "        s += \",\"\n",
    "s += '],'\n",
    "\n",
    "s += '['\n",
    "for i in range(len(rain1)):\n",
    "    s += str(rain7[i])\n",
    "    if i != len(rain1) - 1:\n",
    "        s += \",\"\n",
    "s += '],'\n",
    "\n",
    "s += '['\n",
    "for i in range(len(rain1)):\n",
    "    s += str(rain8[i])\n",
    "    if i != len(rain1) - 1:\n",
    "        s += \",\"\n",
    "s += '],'\n",
    "\n",
    "s += '['\n",
    "for i in range(len(rain1)):\n",
    "    s += str(rain9[i])\n",
    "    if i != len(rain1) - 1:\n",
    "        s += \",\"\n",
    "s += '],'\n",
    "\n",
    "s += '['\n",
    "for i in range(len(rain1)):\n",
    "    s += str(rain10[i])\n",
    "    if i != len(rain1) - 1:\n",
    "        s += \",\"\n",
    "s += '],'\n",
    "\n",
    "s += '['\n",
    "for i in range(len(rain1)):\n",
    "    s += str(rain11[i])\n",
    "    if i != len(rain1) - 1:\n",
    "        s += \",\"\n",
    "s += ']'\n",
    "\n",
    "s += '];'"
   ]
  },
  {
   "cell_type": "code",
   "execution_count": 28,
   "metadata": {},
   "outputs": [],
   "source": [
    "f = open('../js/rain.min.js','w')\n",
    "f.write(s)\n",
    "f.close()"
   ]
  },
  {
   "cell_type": "code",
   "execution_count": null,
   "metadata": {},
   "outputs": [],
   "source": []
  },
  {
   "cell_type": "code",
   "execution_count": null,
   "metadata": {},
   "outputs": [],
   "source": []
  }
 ],
 "metadata": {
  "kernelspec": {
   "display_name": "Python 3",
   "language": "python",
   "name": "python3"
  },
  "language_info": {
   "codemirror_mode": {
    "name": "ipython",
    "version": 3
   },
   "file_extension": ".py",
   "mimetype": "text/x-python",
   "name": "python",
   "nbconvert_exporter": "python",
   "pygments_lexer": "ipython3",
   "version": "3.6.5"
  }
 },
 "nbformat": 4,
 "nbformat_minor": 4
}
